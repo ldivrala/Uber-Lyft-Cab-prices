{
  "nbformat": 4,
  "nbformat_minor": 0,
  "metadata": {
    "colab": {
      "name": "uberPrice.ipynb",
      "provenance": [],
      "collapsed_sections": [],
      "authorship_tag": "ABX9TyMx9qbjeGpkxE/FWHBac3J+",
      "include_colab_link": true
    },
    "kernelspec": {
      "name": "python3",
      "display_name": "Python 3"
    },
    "language_info": {
      "name": "python"
    }
  },
  "cells": [
    {
      "cell_type": "markdown",
      "metadata": {
        "id": "view-in-github",
        "colab_type": "text"
      },
      "source": [
        "<a href=\"https://colab.research.google.com/github/ldivrala/Uber-Lyft-Cab-prices/blob/main/CabPrices.ipynb\" target=\"_parent\"><img src=\"https://colab.research.google.com/assets/colab-badge.svg\" alt=\"Open In Colab\"/></a>"
      ]
    },
    {
      "cell_type": "code",
      "metadata": {
        "id": "znc6nAJYqUii"
      },
      "source": [
        "import pandas as pd\n",
        "from sklearn.linear_model import LinearRegression\n",
        "import numpy as np\n",
        "import matplotlib.pyplot as plt\n",
        "from sklearn.preprocessing import StandardScaler\n",
        "from sklearn.model_selection import train_test_split\n",
        "import seaborn as sns\n",
        "%matplotlib inline"
      ],
      "execution_count": 2,
      "outputs": []
    },
    {
      "cell_type": "code",
      "metadata": {
        "id": "dpMFeS9Kqgi_",
        "colab": {
          "base_uri": "https://localhost:8080/"
        },
        "outputId": "a6776f7c-ad26-432e-d1cc-985ea435a367"
      },
      "source": [
        "!mkdir ~/.kaggle\n",
        "!cp kaggle.json ~/.kaggle/\n",
        "!chmod 600 ~/.kaggle/kaggle.json"
      ],
      "execution_count": 3,
      "outputs": [
        {
          "output_type": "stream",
          "name": "stdout",
          "text": [
            "mkdir: cannot create directory ‘/root/.kaggle’: File exists\n"
          ]
        }
      ]
    },
    {
      "cell_type": "code",
      "metadata": {
        "colab": {
          "base_uri": "https://localhost:8080/"
        },
        "id": "gtXXz19Bt0sd",
        "outputId": "c3b29c7e-6ddf-4ff6-ce4f-ecfda83d4279"
      },
      "source": [
        "!kaggle datasets download -d 'ravi72munde/uber-lyft-cab-prices'"
      ],
      "execution_count": 4,
      "outputs": [
        {
          "output_type": "stream",
          "name": "stdout",
          "text": [
            "uber-lyft-cab-prices.zip: Skipping, found more recently modified local copy (use --force to force download)\n"
          ]
        }
      ]
    },
    {
      "cell_type": "code",
      "metadata": {
        "colab": {
          "base_uri": "https://localhost:8080/"
        },
        "id": "7wR0aSttt4WW",
        "outputId": "9d03eec3-6880-4fab-aaf0-7b606deea3df"
      },
      "source": [
        "!mkdir train\n",
        "!unzip uber-lyft-cab-prices.zip -d train"
      ],
      "execution_count": 5,
      "outputs": [
        {
          "output_type": "stream",
          "name": "stdout",
          "text": [
            "mkdir: cannot create directory ‘train’: File exists\n",
            "Archive:  uber-lyft-cab-prices.zip\n",
            "replace train/Cab-Weather Data/Cab-Weather Data/cab_rides.txt? [y]es, [n]o, [A]ll, [N]one, [r]ename: N\n"
          ]
        }
      ]
    },
    {
      "cell_type": "code",
      "metadata": {
        "id": "i-7Iy7f3xY7U"
      },
      "source": [
        "# Reduce Memory Usage\n",
        "def reduce_memory_usage(df):\n",
        "  start_mem = df.memory_usage().sum() / 1024 ** 2\n",
        "  for col in df.columns:\n",
        "    col_type = df[col].dtype\n",
        "\n",
        "    if col_type != object:\n",
        "      c_min = df[col].min()\n",
        "      c_max = df[col].max()\n",
        "\n",
        "      if str(col_type)[:3] == 'int':\n",
        "        if c_min > np.iinfo(np.int16).min and c_max < np.iinfo(np.int16).max:\n",
        "          df[col] = df[col].astype(np.int16)\n",
        "        elif c_min > np.iinfo(np.int32).min and c_max < np.iinfo(np.int32).max:\n",
        "          df[col] = df[col].astype(np.int32)\n",
        "        elif c_min > np.iinfo(np.int64).min and c_max < np.iinfo(np.int64).max:\n",
        "          df[col] = df[col].astype(np.int64)\n",
        "      else:\n",
        "        if c_min > np.finfo(np.float32).min and c_max < np.finfo(np.float32).max:\n",
        "          df[col] = df[col].astype(np.float32)\n",
        "        elif c_min > np.finfo(np.float64).min and c_max < np.finfo(np.float64).max:\n",
        "          df[col] = df[col].astype(np.float64)\n",
        "\n",
        "  end_mem = df.memory_usage().sum() / 1024 ** 2\n",
        "  print('Memory usage of dataframe is {:.2f} MB --> {:.2f} MB (Decreased by {:.1f}%)'.format(\n",
        "        start_mem, end_mem, 100 * (start_mem - end_mem) / start_mem))\n",
        "  return df        "
      ],
      "execution_count": 6,
      "outputs": []
    },
    {
      "cell_type": "code",
      "metadata": {
        "colab": {
          "base_uri": "https://localhost:8080/"
        },
        "id": "Z_TlHDzy1eKH",
        "outputId": "34e23f6b-00b0-41bc-cf2b-82d280687715"
      },
      "source": [
        "cab_data = pd.read_csv(\"train/cab_rides.csv\")\n",
        "cab_data = reduce_memory_usage(cab_data)\n",
        "weather_data = pd.read_csv(\"train/weather.csv\")\n",
        "weather_data = reduce_memory_usage(weather_data)"
      ],
      "execution_count": 7,
      "outputs": [
        {
          "output_type": "stream",
          "name": "stdout",
          "text": [
            "Memory usage of dataframe is 52.88 MB --> 44.95 MB (Decreased by 15.0%)\n",
            "Memory usage of dataframe is 0.38 MB --> 0.22 MB (Decreased by 43.7%)\n"
          ]
        }
      ]
    },
    {
      "cell_type": "code",
      "metadata": {
        "colab": {
          "base_uri": "https://localhost:8080/",
          "height": 289
        },
        "id": "xen8Wo-J1yml",
        "outputId": "ef2dc8ae-a8e1-49b3-8f53-4bc89bd1cf82"
      },
      "source": [
        "cab_data.head()"
      ],
      "execution_count": 8,
      "outputs": [
        {
          "output_type": "execute_result",
          "data": {
            "text/html": [
              "<div>\n",
              "<style scoped>\n",
              "    .dataframe tbody tr th:only-of-type {\n",
              "        vertical-align: middle;\n",
              "    }\n",
              "\n",
              "    .dataframe tbody tr th {\n",
              "        vertical-align: top;\n",
              "    }\n",
              "\n",
              "    .dataframe thead th {\n",
              "        text-align: right;\n",
              "    }\n",
              "</style>\n",
              "<table border=\"1\" class=\"dataframe\">\n",
              "  <thead>\n",
              "    <tr style=\"text-align: right;\">\n",
              "      <th></th>\n",
              "      <th>distance</th>\n",
              "      <th>cab_type</th>\n",
              "      <th>time_stamp</th>\n",
              "      <th>destination</th>\n",
              "      <th>source</th>\n",
              "      <th>price</th>\n",
              "      <th>surge_multiplier</th>\n",
              "      <th>id</th>\n",
              "      <th>product_id</th>\n",
              "      <th>name</th>\n",
              "    </tr>\n",
              "  </thead>\n",
              "  <tbody>\n",
              "    <tr>\n",
              "      <th>0</th>\n",
              "      <td>0.44</td>\n",
              "      <td>Lyft</td>\n",
              "      <td>1544952607890</td>\n",
              "      <td>North Station</td>\n",
              "      <td>Haymarket Square</td>\n",
              "      <td>5.0</td>\n",
              "      <td>1.0</td>\n",
              "      <td>424553bb-7174-41ea-aeb4-fe06d4f4b9d7</td>\n",
              "      <td>lyft_line</td>\n",
              "      <td>Shared</td>\n",
              "    </tr>\n",
              "    <tr>\n",
              "      <th>1</th>\n",
              "      <td>0.44</td>\n",
              "      <td>Lyft</td>\n",
              "      <td>1543284023677</td>\n",
              "      <td>North Station</td>\n",
              "      <td>Haymarket Square</td>\n",
              "      <td>11.0</td>\n",
              "      <td>1.0</td>\n",
              "      <td>4bd23055-6827-41c6-b23b-3c491f24e74d</td>\n",
              "      <td>lyft_premier</td>\n",
              "      <td>Lux</td>\n",
              "    </tr>\n",
              "    <tr>\n",
              "      <th>2</th>\n",
              "      <td>0.44</td>\n",
              "      <td>Lyft</td>\n",
              "      <td>1543366822198</td>\n",
              "      <td>North Station</td>\n",
              "      <td>Haymarket Square</td>\n",
              "      <td>7.0</td>\n",
              "      <td>1.0</td>\n",
              "      <td>981a3613-77af-4620-a42a-0c0866077d1e</td>\n",
              "      <td>lyft</td>\n",
              "      <td>Lyft</td>\n",
              "    </tr>\n",
              "    <tr>\n",
              "      <th>3</th>\n",
              "      <td>0.44</td>\n",
              "      <td>Lyft</td>\n",
              "      <td>1543553582749</td>\n",
              "      <td>North Station</td>\n",
              "      <td>Haymarket Square</td>\n",
              "      <td>26.0</td>\n",
              "      <td>1.0</td>\n",
              "      <td>c2d88af2-d278-4bfd-a8d0-29ca77cc5512</td>\n",
              "      <td>lyft_luxsuv</td>\n",
              "      <td>Lux Black XL</td>\n",
              "    </tr>\n",
              "    <tr>\n",
              "      <th>4</th>\n",
              "      <td>0.44</td>\n",
              "      <td>Lyft</td>\n",
              "      <td>1543463360223</td>\n",
              "      <td>North Station</td>\n",
              "      <td>Haymarket Square</td>\n",
              "      <td>9.0</td>\n",
              "      <td>1.0</td>\n",
              "      <td>e0126e1f-8ca9-4f2e-82b3-50505a09db9a</td>\n",
              "      <td>lyft_plus</td>\n",
              "      <td>Lyft XL</td>\n",
              "    </tr>\n",
              "  </tbody>\n",
              "</table>\n",
              "</div>"
            ],
            "text/plain": [
              "   distance cab_type  ...    product_id          name\n",
              "0      0.44     Lyft  ...     lyft_line        Shared\n",
              "1      0.44     Lyft  ...  lyft_premier           Lux\n",
              "2      0.44     Lyft  ...          lyft          Lyft\n",
              "3      0.44     Lyft  ...   lyft_luxsuv  Lux Black XL\n",
              "4      0.44     Lyft  ...     lyft_plus       Lyft XL\n",
              "\n",
              "[5 rows x 10 columns]"
            ]
          },
          "metadata": {},
          "execution_count": 8
        }
      ]
    },
    {
      "cell_type": "code",
      "metadata": {
        "colab": {
          "base_uri": "https://localhost:8080/",
          "height": 204
        },
        "id": "y1HA25pT7TGI",
        "outputId": "c4872d54-493c-45cb-8f87-9bda1a7fcad4"
      },
      "source": [
        "weather_data.head()"
      ],
      "execution_count": 9,
      "outputs": [
        {
          "output_type": "execute_result",
          "data": {
            "text/html": [
              "<div>\n",
              "<style scoped>\n",
              "    .dataframe tbody tr th:only-of-type {\n",
              "        vertical-align: middle;\n",
              "    }\n",
              "\n",
              "    .dataframe tbody tr th {\n",
              "        vertical-align: top;\n",
              "    }\n",
              "\n",
              "    .dataframe thead th {\n",
              "        text-align: right;\n",
              "    }\n",
              "</style>\n",
              "<table border=\"1\" class=\"dataframe\">\n",
              "  <thead>\n",
              "    <tr style=\"text-align: right;\">\n",
              "      <th></th>\n",
              "      <th>temp</th>\n",
              "      <th>location</th>\n",
              "      <th>clouds</th>\n",
              "      <th>pressure</th>\n",
              "      <th>rain</th>\n",
              "      <th>time_stamp</th>\n",
              "      <th>humidity</th>\n",
              "      <th>wind</th>\n",
              "    </tr>\n",
              "  </thead>\n",
              "  <tbody>\n",
              "    <tr>\n",
              "      <th>0</th>\n",
              "      <td>42.419998</td>\n",
              "      <td>Back Bay</td>\n",
              "      <td>1.0</td>\n",
              "      <td>1012.140015</td>\n",
              "      <td>0.1228</td>\n",
              "      <td>1545003901</td>\n",
              "      <td>0.77</td>\n",
              "      <td>11.25</td>\n",
              "    </tr>\n",
              "    <tr>\n",
              "      <th>1</th>\n",
              "      <td>42.430000</td>\n",
              "      <td>Beacon Hill</td>\n",
              "      <td>1.0</td>\n",
              "      <td>1012.150024</td>\n",
              "      <td>0.1846</td>\n",
              "      <td>1545003901</td>\n",
              "      <td>0.76</td>\n",
              "      <td>11.32</td>\n",
              "    </tr>\n",
              "    <tr>\n",
              "      <th>2</th>\n",
              "      <td>42.500000</td>\n",
              "      <td>Boston University</td>\n",
              "      <td>1.0</td>\n",
              "      <td>1012.150024</td>\n",
              "      <td>0.1089</td>\n",
              "      <td>1545003901</td>\n",
              "      <td>0.76</td>\n",
              "      <td>11.07</td>\n",
              "    </tr>\n",
              "    <tr>\n",
              "      <th>3</th>\n",
              "      <td>42.110001</td>\n",
              "      <td>Fenway</td>\n",
              "      <td>1.0</td>\n",
              "      <td>1012.130005</td>\n",
              "      <td>0.0969</td>\n",
              "      <td>1545003901</td>\n",
              "      <td>0.77</td>\n",
              "      <td>11.09</td>\n",
              "    </tr>\n",
              "    <tr>\n",
              "      <th>4</th>\n",
              "      <td>43.130001</td>\n",
              "      <td>Financial District</td>\n",
              "      <td>1.0</td>\n",
              "      <td>1012.140015</td>\n",
              "      <td>0.1786</td>\n",
              "      <td>1545003901</td>\n",
              "      <td>0.75</td>\n",
              "      <td>11.49</td>\n",
              "    </tr>\n",
              "  </tbody>\n",
              "</table>\n",
              "</div>"
            ],
            "text/plain": [
              "        temp            location  clouds  ...  time_stamp  humidity   wind\n",
              "0  42.419998            Back Bay     1.0  ...  1545003901      0.77  11.25\n",
              "1  42.430000         Beacon Hill     1.0  ...  1545003901      0.76  11.32\n",
              "2  42.500000   Boston University     1.0  ...  1545003901      0.76  11.07\n",
              "3  42.110001              Fenway     1.0  ...  1545003901      0.77  11.09\n",
              "4  43.130001  Financial District     1.0  ...  1545003901      0.75  11.49\n",
              "\n",
              "[5 rows x 8 columns]"
            ]
          },
          "metadata": {},
          "execution_count": 9
        }
      ]
    },
    {
      "cell_type": "code",
      "metadata": {
        "colab": {
          "base_uri": "https://localhost:8080/"
        },
        "id": "YEIHKNnU2M6I",
        "outputId": "c14470d7-48f7-4d65-94ed-6cde2fb47446"
      },
      "source": [
        "cab_data.columns"
      ],
      "execution_count": 10,
      "outputs": [
        {
          "output_type": "execute_result",
          "data": {
            "text/plain": [
              "Index(['distance', 'cab_type', 'time_stamp', 'destination', 'source', 'price',\n",
              "       'surge_multiplier', 'id', 'product_id', 'name'],\n",
              "      dtype='object')"
            ]
          },
          "metadata": {},
          "execution_count": 10
        }
      ]
    },
    {
      "cell_type": "code",
      "metadata": {
        "colab": {
          "base_uri": "https://localhost:8080/"
        },
        "id": "j2L8RHtL2mya",
        "outputId": "ef70c613-0070-4275-9afa-36ee0d279d0d"
      },
      "source": [
        "weather_data.columns"
      ],
      "execution_count": 11,
      "outputs": [
        {
          "output_type": "execute_result",
          "data": {
            "text/plain": [
              "Index(['temp', 'location', 'clouds', 'pressure', 'rain', 'time_stamp',\n",
              "       'humidity', 'wind'],\n",
              "      dtype='object')"
            ]
          },
          "metadata": {},
          "execution_count": 11
        }
      ]
    },
    {
      "cell_type": "code",
      "metadata": {
        "id": "MqWrenth2-i_"
      },
      "source": [
        "# cab_data[\"time_stamp\"] = pd.to_datetime(cab_data[\"time_stamp\"])\n",
        "# weather_data[\"time_stamp\"] = pd.to_datetime(weather_data[\"time_stamp\"])"
      ],
      "execution_count": 12,
      "outputs": []
    },
    {
      "cell_type": "code",
      "metadata": {
        "colab": {
          "base_uri": "https://localhost:8080/",
          "height": 297
        },
        "id": "mbx1NPcK3bJZ",
        "outputId": "f19f3992-7667-4b70-d1ba-573a42bd2cf5"
      },
      "source": [
        "cab_data.describe()"
      ],
      "execution_count": 13,
      "outputs": [
        {
          "output_type": "execute_result",
          "data": {
            "text/html": [
              "<div>\n",
              "<style scoped>\n",
              "    .dataframe tbody tr th:only-of-type {\n",
              "        vertical-align: middle;\n",
              "    }\n",
              "\n",
              "    .dataframe tbody tr th {\n",
              "        vertical-align: top;\n",
              "    }\n",
              "\n",
              "    .dataframe thead th {\n",
              "        text-align: right;\n",
              "    }\n",
              "</style>\n",
              "<table border=\"1\" class=\"dataframe\">\n",
              "  <thead>\n",
              "    <tr style=\"text-align: right;\">\n",
              "      <th></th>\n",
              "      <th>distance</th>\n",
              "      <th>time_stamp</th>\n",
              "      <th>price</th>\n",
              "      <th>surge_multiplier</th>\n",
              "    </tr>\n",
              "  </thead>\n",
              "  <tbody>\n",
              "    <tr>\n",
              "      <th>count</th>\n",
              "      <td>693071.000000</td>\n",
              "      <td>6.930710e+05</td>\n",
              "      <td>637976.000000</td>\n",
              "      <td>693071.000000</td>\n",
              "    </tr>\n",
              "    <tr>\n",
              "      <th>mean</th>\n",
              "      <td>2.190057</td>\n",
              "      <td>1.544046e+12</td>\n",
              "      <td>16.543797</td>\n",
              "      <td>1.013870</td>\n",
              "    </tr>\n",
              "    <tr>\n",
              "      <th>std</th>\n",
              "      <td>1.138935</td>\n",
              "      <td>6.891925e+08</td>\n",
              "      <td>9.319172</td>\n",
              "      <td>0.091467</td>\n",
              "    </tr>\n",
              "    <tr>\n",
              "      <th>min</th>\n",
              "      <td>0.020000</td>\n",
              "      <td>1.543204e+12</td>\n",
              "      <td>2.500000</td>\n",
              "      <td>1.000000</td>\n",
              "    </tr>\n",
              "    <tr>\n",
              "      <th>25%</th>\n",
              "      <td>1.280000</td>\n",
              "      <td>1.543444e+12</td>\n",
              "      <td>9.000000</td>\n",
              "      <td>1.000000</td>\n",
              "    </tr>\n",
              "    <tr>\n",
              "      <th>50%</th>\n",
              "      <td>2.160000</td>\n",
              "      <td>1.543737e+12</td>\n",
              "      <td>13.500000</td>\n",
              "      <td>1.000000</td>\n",
              "    </tr>\n",
              "    <tr>\n",
              "      <th>75%</th>\n",
              "      <td>2.920000</td>\n",
              "      <td>1.544828e+12</td>\n",
              "      <td>22.500000</td>\n",
              "      <td>1.000000</td>\n",
              "    </tr>\n",
              "    <tr>\n",
              "      <th>max</th>\n",
              "      <td>7.860000</td>\n",
              "      <td>1.545161e+12</td>\n",
              "      <td>97.500000</td>\n",
              "      <td>3.000000</td>\n",
              "    </tr>\n",
              "  </tbody>\n",
              "</table>\n",
              "</div>"
            ],
            "text/plain": [
              "            distance    time_stamp          price  surge_multiplier\n",
              "count  693071.000000  6.930710e+05  637976.000000     693071.000000\n",
              "mean        2.190057  1.544046e+12      16.543797          1.013870\n",
              "std         1.138935  6.891925e+08       9.319172          0.091467\n",
              "min         0.020000  1.543204e+12       2.500000          1.000000\n",
              "25%         1.280000  1.543444e+12       9.000000          1.000000\n",
              "50%         2.160000  1.543737e+12      13.500000          1.000000\n",
              "75%         2.920000  1.544828e+12      22.500000          1.000000\n",
              "max         7.860000  1.545161e+12      97.500000          3.000000"
            ]
          },
          "metadata": {},
          "execution_count": 13
        }
      ]
    },
    {
      "cell_type": "code",
      "metadata": {
        "colab": {
          "base_uri": "https://localhost:8080/",
          "height": 297
        },
        "id": "yGrLzbzD3q2p",
        "outputId": "e000c1fb-692a-4d86-cd57-882d2531fc50"
      },
      "source": [
        "weather_data.describe()"
      ],
      "execution_count": 14,
      "outputs": [
        {
          "output_type": "execute_result",
          "data": {
            "text/html": [
              "<div>\n",
              "<style scoped>\n",
              "    .dataframe tbody tr th:only-of-type {\n",
              "        vertical-align: middle;\n",
              "    }\n",
              "\n",
              "    .dataframe tbody tr th {\n",
              "        vertical-align: top;\n",
              "    }\n",
              "\n",
              "    .dataframe thead th {\n",
              "        text-align: right;\n",
              "    }\n",
              "</style>\n",
              "<table border=\"1\" class=\"dataframe\">\n",
              "  <thead>\n",
              "    <tr style=\"text-align: right;\">\n",
              "      <th></th>\n",
              "      <th>temp</th>\n",
              "      <th>clouds</th>\n",
              "      <th>pressure</th>\n",
              "      <th>rain</th>\n",
              "      <th>time_stamp</th>\n",
              "      <th>humidity</th>\n",
              "      <th>wind</th>\n",
              "    </tr>\n",
              "  </thead>\n",
              "  <tbody>\n",
              "    <tr>\n",
              "      <th>count</th>\n",
              "      <td>6276.000000</td>\n",
              "      <td>6276.000000</td>\n",
              "      <td>6276.000000</td>\n",
              "      <td>894.000000</td>\n",
              "      <td>6.276000e+03</td>\n",
              "      <td>6276.000000</td>\n",
              "      <td>6276.000000</td>\n",
              "    </tr>\n",
              "    <tr>\n",
              "      <th>mean</th>\n",
              "      <td>39.090378</td>\n",
              "      <td>0.677775</td>\n",
              "      <td>1008.443176</td>\n",
              "      <td>0.057652</td>\n",
              "      <td>1.543857e+09</td>\n",
              "      <td>0.763976</td>\n",
              "      <td>6.802810</td>\n",
              "    </tr>\n",
              "    <tr>\n",
              "      <th>std</th>\n",
              "      <td>6.022061</td>\n",
              "      <td>0.314283</td>\n",
              "      <td>12.870790</td>\n",
              "      <td>0.100758</td>\n",
              "      <td>6.659340e+05</td>\n",
              "      <td>0.127340</td>\n",
              "      <td>3.633476</td>\n",
              "    </tr>\n",
              "    <tr>\n",
              "      <th>min</th>\n",
              "      <td>19.620001</td>\n",
              "      <td>0.000000</td>\n",
              "      <td>988.250000</td>\n",
              "      <td>0.000200</td>\n",
              "      <td>1.543204e+09</td>\n",
              "      <td>0.450000</td>\n",
              "      <td>0.290000</td>\n",
              "    </tr>\n",
              "    <tr>\n",
              "      <th>25%</th>\n",
              "      <td>36.077501</td>\n",
              "      <td>0.440000</td>\n",
              "      <td>997.747498</td>\n",
              "      <td>0.004900</td>\n",
              "      <td>1.543387e+09</td>\n",
              "      <td>0.670000</td>\n",
              "      <td>3.517500</td>\n",
              "    </tr>\n",
              "    <tr>\n",
              "      <th>50%</th>\n",
              "      <td>40.130001</td>\n",
              "      <td>0.780000</td>\n",
              "      <td>1007.659973</td>\n",
              "      <td>0.014850</td>\n",
              "      <td>1.543514e+09</td>\n",
              "      <td>0.760000</td>\n",
              "      <td>6.570000</td>\n",
              "    </tr>\n",
              "    <tr>\n",
              "      <th>75%</th>\n",
              "      <td>42.832501</td>\n",
              "      <td>0.970000</td>\n",
              "      <td>1018.479980</td>\n",
              "      <td>0.060925</td>\n",
              "      <td>1.544691e+09</td>\n",
              "      <td>0.890000</td>\n",
              "      <td>9.920000</td>\n",
              "    </tr>\n",
              "    <tr>\n",
              "      <th>max</th>\n",
              "      <td>55.410000</td>\n",
              "      <td>1.000000</td>\n",
              "      <td>1035.119995</td>\n",
              "      <td>0.780700</td>\n",
              "      <td>1.545159e+09</td>\n",
              "      <td>0.990000</td>\n",
              "      <td>18.180000</td>\n",
              "    </tr>\n",
              "  </tbody>\n",
              "</table>\n",
              "</div>"
            ],
            "text/plain": [
              "              temp       clouds  ...     humidity         wind\n",
              "count  6276.000000  6276.000000  ...  6276.000000  6276.000000\n",
              "mean     39.090378     0.677775  ...     0.763976     6.802810\n",
              "std       6.022061     0.314283  ...     0.127340     3.633476\n",
              "min      19.620001     0.000000  ...     0.450000     0.290000\n",
              "25%      36.077501     0.440000  ...     0.670000     3.517500\n",
              "50%      40.130001     0.780000  ...     0.760000     6.570000\n",
              "75%      42.832501     0.970000  ...     0.890000     9.920000\n",
              "max      55.410000     1.000000  ...     0.990000    18.180000\n",
              "\n",
              "[8 rows x 7 columns]"
            ]
          },
          "metadata": {},
          "execution_count": 14
        }
      ]
    },
    {
      "cell_type": "markdown",
      "metadata": {
        "id": "6elzG-KQ7ktp"
      },
      "source": [
        "Handle missing values"
      ]
    },
    {
      "cell_type": "code",
      "metadata": {
        "colab": {
          "base_uri": "https://localhost:8080/"
        },
        "id": "xuiK70FL3s91",
        "outputId": "c74a0360-81ef-4977-d20e-1a6001989ee0"
      },
      "source": [
        "cab_data.isna().sum()"
      ],
      "execution_count": 15,
      "outputs": [
        {
          "output_type": "execute_result",
          "data": {
            "text/plain": [
              "distance                0\n",
              "cab_type                0\n",
              "time_stamp              0\n",
              "destination             0\n",
              "source                  0\n",
              "price               55095\n",
              "surge_multiplier        0\n",
              "id                      0\n",
              "product_id              0\n",
              "name                    0\n",
              "dtype: int64"
            ]
          },
          "metadata": {},
          "execution_count": 15
        }
      ]
    },
    {
      "cell_type": "code",
      "metadata": {
        "colab": {
          "base_uri": "https://localhost:8080/"
        },
        "id": "GGfdKy2R4-BF",
        "outputId": "d35e9f30-94a5-4fcf-8939-f986b2d59fe4"
      },
      "source": [
        "cab_data = cab_data.dropna(axis=0).reset_index(drop=True)\n",
        "cab_data.isna().sum()"
      ],
      "execution_count": 16,
      "outputs": [
        {
          "output_type": "execute_result",
          "data": {
            "text/plain": [
              "distance            0\n",
              "cab_type            0\n",
              "time_stamp          0\n",
              "destination         0\n",
              "source              0\n",
              "price               0\n",
              "surge_multiplier    0\n",
              "id                  0\n",
              "product_id          0\n",
              "name                0\n",
              "dtype: int64"
            ]
          },
          "metadata": {},
          "execution_count": 16
        }
      ]
    },
    {
      "cell_type": "code",
      "metadata": {
        "colab": {
          "base_uri": "https://localhost:8080/"
        },
        "id": "4idRvwN_4_vl",
        "outputId": "ec50568f-74a8-4287-d8cc-723dbcc2cc6f"
      },
      "source": [
        "weather_data.isna().sum()"
      ],
      "execution_count": 17,
      "outputs": [
        {
          "output_type": "execute_result",
          "data": {
            "text/plain": [
              "temp             0\n",
              "location         0\n",
              "clouds           0\n",
              "pressure         0\n",
              "rain          5382\n",
              "time_stamp       0\n",
              "humidity         0\n",
              "wind             0\n",
              "dtype: int64"
            ]
          },
          "metadata": {},
          "execution_count": 17
        }
      ]
    },
    {
      "cell_type": "code",
      "metadata": {
        "id": "ND9P-A7x5eqA"
      },
      "source": [
        "# Most of the rain value can be 0\n",
        "weather_data = weather_data.fillna(0)"
      ],
      "execution_count": 18,
      "outputs": []
    },
    {
      "cell_type": "markdown",
      "metadata": {
        "id": "2k84J69rJVMw"
      },
      "source": [
        "EDA"
      ]
    },
    {
      "cell_type": "code",
      "metadata": {
        "colab": {
          "base_uri": "https://localhost:8080/"
        },
        "id": "Q7O5R8pg8bQw",
        "outputId": "8a474cb4-4c05-4a17-adf0-21c5b6561972"
      },
      "source": [
        "# Plot distrubution of Categorial Data\n",
        "Categorical_Columns = cab_data.dtypes[cab_data.dtypes == \"object\"].index.to_list()\n",
        "Categorical_Columns = [x for x in Categorical_Columns if x != \"Churn\"]\n",
        "Categorical_Columns"
      ],
      "execution_count": 19,
      "outputs": [
        {
          "output_type": "execute_result",
          "data": {
            "text/plain": [
              "['cab_type', 'destination', 'source', 'id', 'product_id', 'name']"
            ]
          },
          "metadata": {},
          "execution_count": 19
        }
      ]
    },
    {
      "cell_type": "code",
      "metadata": {
        "id": "Pegshuri8ywm"
      },
      "source": [
        "Categorical_Columns = ['cab_type', 'destination', 'source', 'name']"
      ],
      "execution_count": 38,
      "outputs": []
    },
    {
      "cell_type": "code",
      "metadata": {
        "colab": {
          "base_uri": "https://localhost:8080/"
        },
        "id": "ST89sJdy9GWo",
        "outputId": "48d84875-707f-42e1-fdda-21dd90d492e5"
      },
      "source": [
        "Numerical_Columns  = cab_data.dtypes[cab_data.dtypes != \"object\"].index.to_list()\n",
        "Continous_Columns = [column for column in Numerical_Columns if cab_data[column].nunique() > 10]\n",
        "Discrete_Columns = [column for column in Numerical_Columns if cab_data[column].nunique() <= 10]\n",
        "\n",
        "Discrete_Columns, Continous_Columns"
      ],
      "execution_count": 21,
      "outputs": [
        {
          "output_type": "execute_result",
          "data": {
            "text/plain": [
              "(['surge_multiplier'], ['distance', 'time_stamp', 'price'])"
            ]
          },
          "metadata": {},
          "execution_count": 21
        }
      ]
    },
    {
      "cell_type": "code",
      "metadata": {
        "id": "CjFmYk6c9J1Q"
      },
      "source": [
        "Continous_Columns = Continous_Columns + Discrete_Columns"
      ],
      "execution_count": 22,
      "outputs": []
    },
    {
      "cell_type": "code",
      "metadata": {
        "colab": {
          "base_uri": "https://localhost:8080/",
          "height": 1000
        },
        "id": "YwlclUcy9fqy",
        "outputId": "9ecc07da-2b7f-4fc7-8567-6c180a7b7c6d"
      },
      "source": [
        "for i, column in enumerate(Categorical_Columns):\n",
        "    plt.figure(i, figsize=(10, 5))\n",
        "    ax = sns.histplot(data = cab_data, x='price', hue = cab_data[column], bins = 50, legend = True)\n",
        "\n",
        "    plt.title(f\"{column.upper()} Hist Plot\")\n"
      ],
      "execution_count": 39,
      "outputs": [
        {
          "output_type": "display_data",
          "data": {
            "image/png": "[encoded data removed]",
            "text/plain": [
              "<Figure size 720x360 with 1 Axes>"
            ]
          },
          "metadata": {
            "needs_background": "light"
          }
        },
        {
          "output_type": "display_data",
          "data": {
            "image/png": "[encoded data removed]",
            "text/plain": [
              "<Figure size 720x360 with 1 Axes>"
            ]
          },
          "metadata": {
            "needs_background": "light"
          }
        },
        {
          "output_type": "display_data",
          "data": {
            "image/png": "[encoded data removed]",
            "text/plain": [
              "<Figure size 720x360 with 1 Axes>"
            ]
          },
          "metadata": {
            "needs_background": "light"
          }
        },
        {
          "output_type": "display_data",
          "data": {
            "image/png": "[encoded data removed]",
            "text/plain": [
              "<Figure size 720x360 with 1 Axes>"
            ]
          },
          "metadata": {
            "needs_background": "light"
          }
        }
      ]
    },
    {
      "cell_type": "code",
      "metadata": {
        "colab": {
          "base_uri": "https://localhost:8080/",
          "height": 1000
        },
        "id": "far5B_Ns9zNs",
        "outputId": "f54f87a3-4f1c-40bb-d541-dae2679bf75b"
      },
      "source": [
        "for i, column in enumerate(Continous_Columns):\n",
        "    plt.figure(i)\n",
        "    ax = sns.scatterplot(x=cab_data[column], y = cab_data['price'])\n",
        "\n",
        "    plt.title(f\"{column.upper()} Scatter Plot\")"
      ],
      "execution_count": 55,
      "outputs": [
        {
          "output_type": "display_data",
          "data": {
            "image/png": "[encoded data removed]",
            "text/plain": [
              "<Figure size 432x288 with 1 Axes>"
            ]
          },
          "metadata": {
            "needs_background": "light"
          }
        },
        {
          "output_type": "display_data",
          "data": {
            "image/png": "[encoded data removed]",
            "text/plain": [
              "<Figure size 432x288 with 1 Axes>"
            ]
          },
          "metadata": {
            "needs_background": "light"
          }
        },
        {
          "output_type": "display_data",
          "data": {
            "image/png": "[encoded data removed]",
            "text/plain": [
              "<Figure size 432x288 with 1 Axes>"
            ]
          },
          "metadata": {
            "needs_background": "light"
          }
        },
        {
          "output_type": "display_data",
          "data": {
            "image/png": "[encoded data removed]",
            "text/plain": [
              "<Figure size 432x288 with 1 Axes>"
            ]
          },
          "metadata": {
            "needs_background": "light"
          }
        }
      ]
    },
    {
      "cell_type": "code",
      "metadata": {
        "colab": {
          "base_uri": "https://localhost:8080/",
          "height": 452
        },
        "id": "mIQfIUst5hYG",
        "outputId": "7c497b6c-5d3f-4546-c70b-ddbffc2740bc"
      },
      "source": [
        "weather_data.groupby('location').mean()"
      ],
      "execution_count": 75,
      "outputs": [
        {
          "output_type": "execute_result",
          "data": {
            "text/html": [
              "<div>\n",
              "<style scoped>\n",
              "    .dataframe tbody tr th:only-of-type {\n",
              "        vertical-align: middle;\n",
              "    }\n",
              "\n",
              "    .dataframe tbody tr th {\n",
              "        vertical-align: top;\n",
              "    }\n",
              "\n",
              "    .dataframe thead th {\n",
              "        text-align: right;\n",
              "    }\n",
              "</style>\n",
              "<table border=\"1\" class=\"dataframe\">\n",
              "  <thead>\n",
              "    <tr style=\"text-align: right;\">\n",
              "      <th></th>\n",
              "      <th>temp</th>\n",
              "      <th>clouds</th>\n",
              "      <th>pressure</th>\n",
              "      <th>rain</th>\n",
              "      <th>time_stamp</th>\n",
              "      <th>humidity</th>\n",
              "      <th>wind</th>\n",
              "    </tr>\n",
              "    <tr>\n",
              "      <th>location</th>\n",
              "      <th></th>\n",
              "      <th></th>\n",
              "      <th></th>\n",
              "      <th></th>\n",
              "      <th></th>\n",
              "      <th></th>\n",
              "      <th></th>\n",
              "    </tr>\n",
              "  </thead>\n",
              "  <tbody>\n",
              "    <tr>\n",
              "      <th>Back Bay</th>\n",
              "      <td>39.082123</td>\n",
              "      <td>0.678432</td>\n",
              "      <td>1008.447815</td>\n",
              "      <td>0.007925</td>\n",
              "      <td>1.543857e+09</td>\n",
              "      <td>0.764073</td>\n",
              "      <td>6.778528</td>\n",
              "    </tr>\n",
              "    <tr>\n",
              "      <th>Beacon Hill</th>\n",
              "      <td>39.047283</td>\n",
              "      <td>0.677801</td>\n",
              "      <td>1008.448364</td>\n",
              "      <td>0.008297</td>\n",
              "      <td>1.543857e+09</td>\n",
              "      <td>0.765048</td>\n",
              "      <td>6.810325</td>\n",
              "    </tr>\n",
              "    <tr>\n",
              "      <th>Boston University</th>\n",
              "      <td>39.047745</td>\n",
              "      <td>0.679235</td>\n",
              "      <td>1008.459229</td>\n",
              "      <td>0.007738</td>\n",
              "      <td>1.543857e+09</td>\n",
              "      <td>0.763786</td>\n",
              "      <td>6.692180</td>\n",
              "    </tr>\n",
              "    <tr>\n",
              "      <th>Fenway</th>\n",
              "      <td>38.964378</td>\n",
              "      <td>0.679866</td>\n",
              "      <td>1008.453308</td>\n",
              "      <td>0.007343</td>\n",
              "      <td>1.543857e+09</td>\n",
              "      <td>0.767266</td>\n",
              "      <td>6.711721</td>\n",
              "    </tr>\n",
              "    <tr>\n",
              "      <th>Financial District</th>\n",
              "      <td>39.410824</td>\n",
              "      <td>0.676730</td>\n",
              "      <td>1008.435791</td>\n",
              "      <td>0.008563</td>\n",
              "      <td>1.543857e+09</td>\n",
              "      <td>0.754837</td>\n",
              "      <td>6.860019</td>\n",
              "    </tr>\n",
              "    <tr>\n",
              "      <th>Haymarket Square</th>\n",
              "      <td>39.067898</td>\n",
              "      <td>0.676711</td>\n",
              "      <td>1008.445251</td>\n",
              "      <td>0.008660</td>\n",
              "      <td>1.543857e+09</td>\n",
              "      <td>0.764838</td>\n",
              "      <td>6.843193</td>\n",
              "    </tr>\n",
              "    <tr>\n",
              "      <th>North End</th>\n",
              "      <td>39.090843</td>\n",
              "      <td>0.676730</td>\n",
              "      <td>1008.441895</td>\n",
              "      <td>0.008644</td>\n",
              "      <td>1.543857e+09</td>\n",
              "      <td>0.764054</td>\n",
              "      <td>6.853117</td>\n",
              "    </tr>\n",
              "    <tr>\n",
              "      <th>North Station</th>\n",
              "      <td>39.035316</td>\n",
              "      <td>0.676998</td>\n",
              "      <td>1008.442810</td>\n",
              "      <td>0.008649</td>\n",
              "      <td>1.543857e+09</td>\n",
              "      <td>0.765545</td>\n",
              "      <td>6.835755</td>\n",
              "    </tr>\n",
              "    <tr>\n",
              "      <th>Northeastern University</th>\n",
              "      <td>38.975086</td>\n",
              "      <td>0.678317</td>\n",
              "      <td>1008.444153</td>\n",
              "      <td>0.007358</td>\n",
              "      <td>1.543857e+09</td>\n",
              "      <td>0.767648</td>\n",
              "      <td>6.749426</td>\n",
              "    </tr>\n",
              "    <tr>\n",
              "      <th>South Station</th>\n",
              "      <td>39.394093</td>\n",
              "      <td>0.677495</td>\n",
              "      <td>1008.438049</td>\n",
              "      <td>0.008310</td>\n",
              "      <td>1.543857e+09</td>\n",
              "      <td>0.755468</td>\n",
              "      <td>6.848948</td>\n",
              "    </tr>\n",
              "    <tr>\n",
              "      <th>Theatre District</th>\n",
              "      <td>38.986710</td>\n",
              "      <td>0.677763</td>\n",
              "      <td>1008.444763</td>\n",
              "      <td>0.008405</td>\n",
              "      <td>1.543857e+09</td>\n",
              "      <td>0.767992</td>\n",
              "      <td>6.834302</td>\n",
              "    </tr>\n",
              "    <tr>\n",
              "      <th>West End</th>\n",
              "      <td>38.983402</td>\n",
              "      <td>0.677247</td>\n",
              "      <td>1008.441101</td>\n",
              "      <td>0.008657</td>\n",
              "      <td>1.543857e+09</td>\n",
              "      <td>0.767266</td>\n",
              "      <td>6.816233</td>\n",
              "    </tr>\n",
              "  </tbody>\n",
              "</table>\n",
              "</div>"
            ],
            "text/plain": [
              "                              temp    clouds  ...  humidity      wind\n",
              "location                                      ...                    \n",
              "Back Bay                 39.082123  0.678432  ...  0.764073  6.778528\n",
              "Beacon Hill              39.047283  0.677801  ...  0.765048  6.810325\n",
              "Boston University        39.047745  0.679235  ...  0.763786  6.692180\n",
              "Fenway                   38.964378  0.679866  ...  0.767266  6.711721\n",
              "Financial District       39.410824  0.676730  ...  0.754837  6.860019\n",
              "Haymarket Square         39.067898  0.676711  ...  0.764838  6.843193\n",
              "North End                39.090843  0.676730  ...  0.764054  6.853117\n",
              "North Station            39.035316  0.676998  ...  0.765545  6.835755\n",
              "Northeastern University  38.975086  0.678317  ...  0.767648  6.749426\n",
              "South Station            39.394093  0.677495  ...  0.755468  6.848948\n",
              "Theatre District         38.986710  0.677763  ...  0.767992  6.834302\n",
              "West End                 38.983402  0.677247  ...  0.767266  6.816233\n",
              "\n",
              "[12 rows x 7 columns]"
            ]
          },
          "metadata": {},
          "execution_count": 75
        }
      ]
    },
    {
      "cell_type": "code",
      "metadata": {
        "colab": {
          "base_uri": "https://localhost:8080/",
          "height": 421
        },
        "id": "HtMyYotT53LD",
        "outputId": "e78de93c-0697-4e3f-f7e9-cba2a1d55764"
      },
      "source": [
        "# Data is based on one week only so we will collect average data of weather\n",
        "average_weather_data = weather_data.groupby('location').mean().reset_index()\n",
        "average_weather_data = average_weather_data.drop('time_stamp', axis=1)\n",
        "average_weather_data"
      ],
      "execution_count": 87,
      "outputs": [
        {
          "output_type": "execute_result",
          "data": {
            "text/html": [
              "<div>\n",
              "<style scoped>\n",
              "    .dataframe tbody tr th:only-of-type {\n",
              "        vertical-align: middle;\n",
              "    }\n",
              "\n",
              "    .dataframe tbody tr th {\n",
              "        vertical-align: top;\n",
              "    }\n",
              "\n",
              "    .dataframe thead th {\n",
              "        text-align: right;\n",
              "    }\n",
              "</style>\n",
              "<table border=\"1\" class=\"dataframe\">\n",
              "  <thead>\n",
              "    <tr style=\"text-align: right;\">\n",
              "      <th></th>\n",
              "      <th>location</th>\n",
              "      <th>temp</th>\n",
              "      <th>clouds</th>\n",
              "      <th>pressure</th>\n",
              "      <th>rain</th>\n",
              "      <th>humidity</th>\n",
              "      <th>wind</th>\n",
              "    </tr>\n",
              "  </thead>\n",
              "  <tbody>\n",
              "    <tr>\n",
              "      <th>0</th>\n",
              "      <td>Back Bay</td>\n",
              "      <td>39.082123</td>\n",
              "      <td>0.678432</td>\n",
              "      <td>1008.447815</td>\n",
              "      <td>0.007925</td>\n",
              "      <td>0.764073</td>\n",
              "      <td>6.778528</td>\n",
              "    </tr>\n",
              "    <tr>\n",
              "      <th>1</th>\n",
              "      <td>Beacon Hill</td>\n",
              "      <td>39.047283</td>\n",
              "      <td>0.677801</td>\n",
              "      <td>1008.448364</td>\n",
              "      <td>0.008297</td>\n",
              "      <td>0.765048</td>\n",
              "      <td>6.810325</td>\n",
              "    </tr>\n",
              "    <tr>\n",
              "      <th>2</th>\n",
              "      <td>Boston University</td>\n",
              "      <td>39.047745</td>\n",
              "      <td>0.679235</td>\n",
              "      <td>1008.459229</td>\n",
              "      <td>0.007738</td>\n",
              "      <td>0.763786</td>\n",
              "      <td>6.692180</td>\n",
              "    </tr>\n",
              "    <tr>\n",
              "      <th>3</th>\n",
              "      <td>Fenway</td>\n",
              "      <td>38.964378</td>\n",
              "      <td>0.679866</td>\n",
              "      <td>1008.453308</td>\n",
              "      <td>0.007343</td>\n",
              "      <td>0.767266</td>\n",
              "      <td>6.711721</td>\n",
              "    </tr>\n",
              "    <tr>\n",
              "      <th>4</th>\n",
              "      <td>Financial District</td>\n",
              "      <td>39.410824</td>\n",
              "      <td>0.676730</td>\n",
              "      <td>1008.435791</td>\n",
              "      <td>0.008563</td>\n",
              "      <td>0.754837</td>\n",
              "      <td>6.860019</td>\n",
              "    </tr>\n",
              "    <tr>\n",
              "      <th>5</th>\n",
              "      <td>Haymarket Square</td>\n",
              "      <td>39.067898</td>\n",
              "      <td>0.676711</td>\n",
              "      <td>1008.445251</td>\n",
              "      <td>0.008660</td>\n",
              "      <td>0.764838</td>\n",
              "      <td>6.843193</td>\n",
              "    </tr>\n",
              "    <tr>\n",
              "      <th>6</th>\n",
              "      <td>North End</td>\n",
              "      <td>39.090843</td>\n",
              "      <td>0.676730</td>\n",
              "      <td>1008.441895</td>\n",
              "      <td>0.008644</td>\n",
              "      <td>0.764054</td>\n",
              "      <td>6.853117</td>\n",
              "    </tr>\n",
              "    <tr>\n",
              "      <th>7</th>\n",
              "      <td>North Station</td>\n",
              "      <td>39.035316</td>\n",
              "      <td>0.676998</td>\n",
              "      <td>1008.442810</td>\n",
              "      <td>0.008649</td>\n",
              "      <td>0.765545</td>\n",
              "      <td>6.835755</td>\n",
              "    </tr>\n",
              "    <tr>\n",
              "      <th>8</th>\n",
              "      <td>Northeastern University</td>\n",
              "      <td>38.975086</td>\n",
              "      <td>0.678317</td>\n",
              "      <td>1008.444153</td>\n",
              "      <td>0.007358</td>\n",
              "      <td>0.767648</td>\n",
              "      <td>6.749426</td>\n",
              "    </tr>\n",
              "    <tr>\n",
              "      <th>9</th>\n",
              "      <td>South Station</td>\n",
              "      <td>39.394093</td>\n",
              "      <td>0.677495</td>\n",
              "      <td>1008.438049</td>\n",
              "      <td>0.008310</td>\n",
              "      <td>0.755468</td>\n",
              "      <td>6.848948</td>\n",
              "    </tr>\n",
              "    <tr>\n",
              "      <th>10</th>\n",
              "      <td>Theatre District</td>\n",
              "      <td>38.986710</td>\n",
              "      <td>0.677763</td>\n",
              "      <td>1008.444763</td>\n",
              "      <td>0.008405</td>\n",
              "      <td>0.767992</td>\n",
              "      <td>6.834302</td>\n",
              "    </tr>\n",
              "    <tr>\n",
              "      <th>11</th>\n",
              "      <td>West End</td>\n",
              "      <td>38.983402</td>\n",
              "      <td>0.677247</td>\n",
              "      <td>1008.441101</td>\n",
              "      <td>0.008657</td>\n",
              "      <td>0.767266</td>\n",
              "      <td>6.816233</td>\n",
              "    </tr>\n",
              "  </tbody>\n",
              "</table>\n",
              "</div>"
            ],
            "text/plain": [
              "                   location       temp    clouds  ...      rain  humidity      wind\n",
              "0                  Back Bay  39.082123  0.678432  ...  0.007925  0.764073  6.778528\n",
              "1               Beacon Hill  39.047283  0.677801  ...  0.008297  0.765048  6.810325\n",
              "2         Boston University  39.047745  0.679235  ...  0.007738  0.763786  6.692180\n",
              "3                    Fenway  38.964378  0.679866  ...  0.007343  0.767266  6.711721\n",
              "4        Financial District  39.410824  0.676730  ...  0.008563  0.754837  6.860019\n",
              "5          Haymarket Square  39.067898  0.676711  ...  0.008660  0.764838  6.843193\n",
              "6                 North End  39.090843  0.676730  ...  0.008644  0.764054  6.853117\n",
              "7             North Station  39.035316  0.676998  ...  0.008649  0.765545  6.835755\n",
              "8   Northeastern University  38.975086  0.678317  ...  0.007358  0.767648  6.749426\n",
              "9             South Station  39.394093  0.677495  ...  0.008310  0.755468  6.848948\n",
              "10         Theatre District  38.986710  0.677763  ...  0.008405  0.767992  6.834302\n",
              "11                 West End  38.983402  0.677247  ...  0.008657  0.767266  6.816233\n",
              "\n",
              "[12 rows x 7 columns]"
            ]
          },
          "metadata": {},
          "execution_count": 87
        }
      ]
    },
    {
      "cell_type": "code",
      "metadata": {
        "colab": {
          "base_uri": "https://localhost:8080/",
          "height": 563
        },
        "id": "ZTNjL9KL7gl5",
        "outputId": "a7eaeaac-0dfa-449e-ff29-3e52cd0d1ebf"
      },
      "source": [
        "cab_data.head(10)"
      ],
      "execution_count": 77,
      "outputs": [
        {
          "output_type": "execute_result",
          "data": {
            "text/html": [
              "<div>\n",
              "<style scoped>\n",
              "    .dataframe tbody tr th:only-of-type {\n",
              "        vertical-align: middle;\n",
              "    }\n",
              "\n",
              "    .dataframe tbody tr th {\n",
              "        vertical-align: top;\n",
              "    }\n",
              "\n",
              "    .dataframe thead th {\n",
              "        text-align: right;\n",
              "    }\n",
              "</style>\n",
              "<table border=\"1\" class=\"dataframe\">\n",
              "  <thead>\n",
              "    <tr style=\"text-align: right;\">\n",
              "      <th></th>\n",
              "      <th>distance</th>\n",
              "      <th>cab_type</th>\n",
              "      <th>time_stamp</th>\n",
              "      <th>destination</th>\n",
              "      <th>source</th>\n",
              "      <th>price</th>\n",
              "      <th>surge_multiplier</th>\n",
              "      <th>id</th>\n",
              "      <th>product_id</th>\n",
              "      <th>name</th>\n",
              "    </tr>\n",
              "  </thead>\n",
              "  <tbody>\n",
              "    <tr>\n",
              "      <th>0</th>\n",
              "      <td>0.44</td>\n",
              "      <td>Lyft</td>\n",
              "      <td>1544952607890</td>\n",
              "      <td>North Station</td>\n",
              "      <td>Haymarket Square</td>\n",
              "      <td>5.0</td>\n",
              "      <td>1.0</td>\n",
              "      <td>424553bb-7174-41ea-aeb4-fe06d4f4b9d7</td>\n",
              "      <td>lyft_line</td>\n",
              "      <td>Shared</td>\n",
              "    </tr>\n",
              "    <tr>\n",
              "      <th>1</th>\n",
              "      <td>0.44</td>\n",
              "      <td>Lyft</td>\n",
              "      <td>1543284023677</td>\n",
              "      <td>North Station</td>\n",
              "      <td>Haymarket Square</td>\n",
              "      <td>11.0</td>\n",
              "      <td>1.0</td>\n",
              "      <td>4bd23055-6827-41c6-b23b-3c491f24e74d</td>\n",
              "      <td>lyft_premier</td>\n",
              "      <td>Lux</td>\n",
              "    </tr>\n",
              "    <tr>\n",
              "      <th>2</th>\n",
              "      <td>0.44</td>\n",
              "      <td>Lyft</td>\n",
              "      <td>1543366822198</td>\n",
              "      <td>North Station</td>\n",
              "      <td>Haymarket Square</td>\n",
              "      <td>7.0</td>\n",
              "      <td>1.0</td>\n",
              "      <td>981a3613-77af-4620-a42a-0c0866077d1e</td>\n",
              "      <td>lyft</td>\n",
              "      <td>Lyft</td>\n",
              "    </tr>\n",
              "    <tr>\n",
              "      <th>3</th>\n",
              "      <td>0.44</td>\n",
              "      <td>Lyft</td>\n",
              "      <td>1543553582749</td>\n",
              "      <td>North Station</td>\n",
              "      <td>Haymarket Square</td>\n",
              "      <td>26.0</td>\n",
              "      <td>1.0</td>\n",
              "      <td>c2d88af2-d278-4bfd-a8d0-29ca77cc5512</td>\n",
              "      <td>lyft_luxsuv</td>\n",
              "      <td>Lux Black XL</td>\n",
              "    </tr>\n",
              "    <tr>\n",
              "      <th>4</th>\n",
              "      <td>0.44</td>\n",
              "      <td>Lyft</td>\n",
              "      <td>1543463360223</td>\n",
              "      <td>North Station</td>\n",
              "      <td>Haymarket Square</td>\n",
              "      <td>9.0</td>\n",
              "      <td>1.0</td>\n",
              "      <td>e0126e1f-8ca9-4f2e-82b3-50505a09db9a</td>\n",
              "      <td>lyft_plus</td>\n",
              "      <td>Lyft XL</td>\n",
              "    </tr>\n",
              "    <tr>\n",
              "      <th>5</th>\n",
              "      <td>0.44</td>\n",
              "      <td>Lyft</td>\n",
              "      <td>1545071112138</td>\n",
              "      <td>North Station</td>\n",
              "      <td>Haymarket Square</td>\n",
              "      <td>16.5</td>\n",
              "      <td>1.0</td>\n",
              "      <td>f6f6d7e4-3e18-4922-a5f5-181cdd3fa6f2</td>\n",
              "      <td>lyft_lux</td>\n",
              "      <td>Lux Black</td>\n",
              "    </tr>\n",
              "    <tr>\n",
              "      <th>6</th>\n",
              "      <td>1.08</td>\n",
              "      <td>Lyft</td>\n",
              "      <td>1543208580200</td>\n",
              "      <td>Northeastern University</td>\n",
              "      <td>Back Bay</td>\n",
              "      <td>10.5</td>\n",
              "      <td>1.0</td>\n",
              "      <td>462816a3-820d-408b-8549-0b39e82f65ac</td>\n",
              "      <td>lyft_plus</td>\n",
              "      <td>Lyft XL</td>\n",
              "    </tr>\n",
              "    <tr>\n",
              "      <th>7</th>\n",
              "      <td>1.08</td>\n",
              "      <td>Lyft</td>\n",
              "      <td>1543780384677</td>\n",
              "      <td>Northeastern University</td>\n",
              "      <td>Back Bay</td>\n",
              "      <td>16.5</td>\n",
              "      <td>1.0</td>\n",
              "      <td>474d6376-bc59-4ec9-bf57-4e6d6faeb165</td>\n",
              "      <td>lyft_lux</td>\n",
              "      <td>Lux Black</td>\n",
              "    </tr>\n",
              "    <tr>\n",
              "      <th>8</th>\n",
              "      <td>1.08</td>\n",
              "      <td>Lyft</td>\n",
              "      <td>1543818482645</td>\n",
              "      <td>Northeastern University</td>\n",
              "      <td>Back Bay</td>\n",
              "      <td>3.0</td>\n",
              "      <td>1.0</td>\n",
              "      <td>4f9fee41-fde3-4767-bbf1-a00e108701fb</td>\n",
              "      <td>lyft_line</td>\n",
              "      <td>Shared</td>\n",
              "    </tr>\n",
              "    <tr>\n",
              "      <th>9</th>\n",
              "      <td>1.08</td>\n",
              "      <td>Lyft</td>\n",
              "      <td>1543315522249</td>\n",
              "      <td>Northeastern University</td>\n",
              "      <td>Back Bay</td>\n",
              "      <td>27.5</td>\n",
              "      <td>1.0</td>\n",
              "      <td>8612d909-98b8-4454-a093-30bd48de0cb3</td>\n",
              "      <td>lyft_luxsuv</td>\n",
              "      <td>Lux Black XL</td>\n",
              "    </tr>\n",
              "  </tbody>\n",
              "</table>\n",
              "</div>"
            ],
            "text/plain": [
              "   distance cab_type  ...    product_id          name\n",
              "0      0.44     Lyft  ...     lyft_line        Shared\n",
              "1      0.44     Lyft  ...  lyft_premier           Lux\n",
              "2      0.44     Lyft  ...          lyft          Lyft\n",
              "3      0.44     Lyft  ...   lyft_luxsuv  Lux Black XL\n",
              "4      0.44     Lyft  ...     lyft_plus       Lyft XL\n",
              "5      0.44     Lyft  ...      lyft_lux     Lux Black\n",
              "6      1.08     Lyft  ...     lyft_plus       Lyft XL\n",
              "7      1.08     Lyft  ...      lyft_lux     Lux Black\n",
              "8      1.08     Lyft  ...     lyft_line        Shared\n",
              "9      1.08     Lyft  ...   lyft_luxsuv  Lux Black XL\n",
              "\n",
              "[10 rows x 10 columns]"
            ]
          },
          "metadata": {},
          "execution_count": 77
        }
      ]
    },
    {
      "cell_type": "code",
      "metadata": {
        "id": "WG5o5Ogt723k",
        "colab": {
          "base_uri": "https://localhost:8080/",
          "height": 421
        },
        "outputId": "e002c6e7-66fd-4392-f0ab-7d2c1192bf80"
      },
      "source": [
        "pickup_weather_data = average_weather_data.rename(\n",
        "    columns={\n",
        "        'location': 'source',\n",
        "        'temp': 'source_temp',\n",
        "        'clouds': 'source_clouds',\n",
        "        'pressure': 'source_pressure',\n",
        "        'rain': 'source_rain',\n",
        "        'humidity': 'source_humidity',\n",
        "        'wind': 'source_wind'\n",
        "    }\n",
        ")\n",
        "pickup_weather_data"
      ],
      "execution_count": 78,
      "outputs": [
        {
          "output_type": "execute_result",
          "data": {
            "text/html": [
              "<div>\n",
              "<style scoped>\n",
              "    .dataframe tbody tr th:only-of-type {\n",
              "        vertical-align: middle;\n",
              "    }\n",
              "\n",
              "    .dataframe tbody tr th {\n",
              "        vertical-align: top;\n",
              "    }\n",
              "\n",
              "    .dataframe thead th {\n",
              "        text-align: right;\n",
              "    }\n",
              "</style>\n",
              "<table border=\"1\" class=\"dataframe\">\n",
              "  <thead>\n",
              "    <tr style=\"text-align: right;\">\n",
              "      <th></th>\n",
              "      <th>source</th>\n",
              "      <th>source_temp</th>\n",
              "      <th>source_clouds</th>\n",
              "      <th>source_pressure</th>\n",
              "      <th>source_rain</th>\n",
              "      <th>source_humidity</th>\n",
              "      <th>source_wind</th>\n",
              "    </tr>\n",
              "  </thead>\n",
              "  <tbody>\n",
              "    <tr>\n",
              "      <th>0</th>\n",
              "      <td>Back Bay</td>\n",
              "      <td>39.082123</td>\n",
              "      <td>0.678432</td>\n",
              "      <td>1008.447815</td>\n",
              "      <td>0.007925</td>\n",
              "      <td>0.764073</td>\n",
              "      <td>6.778528</td>\n",
              "    </tr>\n",
              "    <tr>\n",
              "      <th>1</th>\n",
              "      <td>Beacon Hill</td>\n",
              "      <td>39.047283</td>\n",
              "      <td>0.677801</td>\n",
              "      <td>1008.448364</td>\n",
              "      <td>0.008297</td>\n",
              "      <td>0.765048</td>\n",
              "      <td>6.810325</td>\n",
              "    </tr>\n",
              "    <tr>\n",
              "      <th>2</th>\n",
              "      <td>Boston University</td>\n",
              "      <td>39.047745</td>\n",
              "      <td>0.679235</td>\n",
              "      <td>1008.459229</td>\n",
              "      <td>0.007738</td>\n",
              "      <td>0.763786</td>\n",
              "      <td>6.692180</td>\n",
              "    </tr>\n",
              "    <tr>\n",
              "      <th>3</th>\n",
              "      <td>Fenway</td>\n",
              "      <td>38.964378</td>\n",
              "      <td>0.679866</td>\n",
              "      <td>1008.453308</td>\n",
              "      <td>0.007343</td>\n",
              "      <td>0.767266</td>\n",
              "      <td>6.711721</td>\n",
              "    </tr>\n",
              "    <tr>\n",
              "      <th>4</th>\n",
              "      <td>Financial District</td>\n",
              "      <td>39.410824</td>\n",
              "      <td>0.676730</td>\n",
              "      <td>1008.435791</td>\n",
              "      <td>0.008563</td>\n",
              "      <td>0.754837</td>\n",
              "      <td>6.860019</td>\n",
              "    </tr>\n",
              "    <tr>\n",
              "      <th>5</th>\n",
              "      <td>Haymarket Square</td>\n",
              "      <td>39.067898</td>\n",
              "      <td>0.676711</td>\n",
              "      <td>1008.445251</td>\n",
              "      <td>0.008660</td>\n",
              "      <td>0.764838</td>\n",
              "      <td>6.843193</td>\n",
              "    </tr>\n",
              "    <tr>\n",
              "      <th>6</th>\n",
              "      <td>North End</td>\n",
              "      <td>39.090843</td>\n",
              "      <td>0.676730</td>\n",
              "      <td>1008.441895</td>\n",
              "      <td>0.008644</td>\n",
              "      <td>0.764054</td>\n",
              "      <td>6.853117</td>\n",
              "    </tr>\n",
              "    <tr>\n",
              "      <th>7</th>\n",
              "      <td>North Station</td>\n",
              "      <td>39.035316</td>\n",
              "      <td>0.676998</td>\n",
              "      <td>1008.442810</td>\n",
              "      <td>0.008649</td>\n",
              "      <td>0.765545</td>\n",
              "      <td>6.835755</td>\n",
              "    </tr>\n",
              "    <tr>\n",
              "      <th>8</th>\n",
              "      <td>Northeastern University</td>\n",
              "      <td>38.975086</td>\n",
              "      <td>0.678317</td>\n",
              "      <td>1008.444153</td>\n",
              "      <td>0.007358</td>\n",
              "      <td>0.767648</td>\n",
              "      <td>6.749426</td>\n",
              "    </tr>\n",
              "    <tr>\n",
              "      <th>9</th>\n",
              "      <td>South Station</td>\n",
              "      <td>39.394093</td>\n",
              "      <td>0.677495</td>\n",
              "      <td>1008.438049</td>\n",
              "      <td>0.008310</td>\n",
              "      <td>0.755468</td>\n",
              "      <td>6.848948</td>\n",
              "    </tr>\n",
              "    <tr>\n",
              "      <th>10</th>\n",
              "      <td>Theatre District</td>\n",
              "      <td>38.986710</td>\n",
              "      <td>0.677763</td>\n",
              "      <td>1008.444763</td>\n",
              "      <td>0.008405</td>\n",
              "      <td>0.767992</td>\n",
              "      <td>6.834302</td>\n",
              "    </tr>\n",
              "    <tr>\n",
              "      <th>11</th>\n",
              "      <td>West End</td>\n",
              "      <td>38.983402</td>\n",
              "      <td>0.677247</td>\n",
              "      <td>1008.441101</td>\n",
              "      <td>0.008657</td>\n",
              "      <td>0.767266</td>\n",
              "      <td>6.816233</td>\n",
              "    </tr>\n",
              "  </tbody>\n",
              "</table>\n",
              "</div>"
            ],
            "text/plain": [
              "                     source  source_temp  ...  source_humidity  source_wind\n",
              "0                  Back Bay    39.082123  ...         0.764073     6.778528\n",
              "1               Beacon Hill    39.047283  ...         0.765048     6.810325\n",
              "2         Boston University    39.047745  ...         0.763786     6.692180\n",
              "3                    Fenway    38.964378  ...         0.767266     6.711721\n",
              "4        Financial District    39.410824  ...         0.754837     6.860019\n",
              "5          Haymarket Square    39.067898  ...         0.764838     6.843193\n",
              "6                 North End    39.090843  ...         0.764054     6.853117\n",
              "7             North Station    39.035316  ...         0.765545     6.835755\n",
              "8   Northeastern University    38.975086  ...         0.767648     6.749426\n",
              "9             South Station    39.394093  ...         0.755468     6.848948\n",
              "10         Theatre District    38.986710  ...         0.767992     6.834302\n",
              "11                 West End    38.983402  ...         0.767266     6.816233\n",
              "\n",
              "[12 rows x 7 columns]"
            ]
          },
          "metadata": {},
          "execution_count": 78
        }
      ]
    },
    {
      "cell_type": "code",
      "metadata": {
        "colab": {
          "base_uri": "https://localhost:8080/",
          "height": 421
        },
        "id": "nQ7poCNC8mW3",
        "outputId": "5003fa9a-dd2d-4ed3-fcbb-976a2825040b"
      },
      "source": [
        "destination_weather_data = average_weather_data.rename(\n",
        "    columns={\n",
        "        'location': 'destination',\n",
        "        'temp': 'destination_temp',\n",
        "        'clouds': 'destination_clouds',\n",
        "        'pressure': 'destination_pressure',\n",
        "        'rain': 'destination_rain',\n",
        "        'humidity': 'destination_humidity',\n",
        "        'wind': 'destination_wind'\n",
        "    }\n",
        ")\n",
        "\n",
        "destination_weather_data"
      ],
      "execution_count": 79,
      "outputs": [
        {
          "output_type": "execute_result",
          "data": {
            "text/html": [
              "<div>\n",
              "<style scoped>\n",
              "    .dataframe tbody tr th:only-of-type {\n",
              "        vertical-align: middle;\n",
              "    }\n",
              "\n",
              "    .dataframe tbody tr th {\n",
              "        vertical-align: top;\n",
              "    }\n",
              "\n",
              "    .dataframe thead th {\n",
              "        text-align: right;\n",
              "    }\n",
              "</style>\n",
              "<table border=\"1\" class=\"dataframe\">\n",
              "  <thead>\n",
              "    <tr style=\"text-align: right;\">\n",
              "      <th></th>\n",
              "      <th>destination</th>\n",
              "      <th>destination_temp</th>\n",
              "      <th>destination_clouds</th>\n",
              "      <th>destination_pressure</th>\n",
              "      <th>destination_rain</th>\n",
              "      <th>destination_humidity</th>\n",
              "      <th>destination_wind</th>\n",
              "    </tr>\n",
              "  </thead>\n",
              "  <tbody>\n",
              "    <tr>\n",
              "      <th>0</th>\n",
              "      <td>Back Bay</td>\n",
              "      <td>39.082123</td>\n",
              "      <td>0.678432</td>\n",
              "      <td>1008.447815</td>\n",
              "      <td>0.007925</td>\n",
              "      <td>0.764073</td>\n",
              "      <td>6.778528</td>\n",
              "    </tr>\n",
              "    <tr>\n",
              "      <th>1</th>\n",
              "      <td>Beacon Hill</td>\n",
              "      <td>39.047283</td>\n",
              "      <td>0.677801</td>\n",
              "      <td>1008.448364</td>\n",
              "      <td>0.008297</td>\n",
              "      <td>0.765048</td>\n",
              "      <td>6.810325</td>\n",
              "    </tr>\n",
              "    <tr>\n",
              "      <th>2</th>\n",
              "      <td>Boston University</td>\n",
              "      <td>39.047745</td>\n",
              "      <td>0.679235</td>\n",
              "      <td>1008.459229</td>\n",
              "      <td>0.007738</td>\n",
              "      <td>0.763786</td>\n",
              "      <td>6.692180</td>\n",
              "    </tr>\n",
              "    <tr>\n",
              "      <th>3</th>\n",
              "      <td>Fenway</td>\n",
              "      <td>38.964378</td>\n",
              "      <td>0.679866</td>\n",
              "      <td>1008.453308</td>\n",
              "      <td>0.007343</td>\n",
              "      <td>0.767266</td>\n",
              "      <td>6.711721</td>\n",
              "    </tr>\n",
              "    <tr>\n",
              "      <th>4</th>\n",
              "      <td>Financial District</td>\n",
              "      <td>39.410824</td>\n",
              "      <td>0.676730</td>\n",
              "      <td>1008.435791</td>\n",
              "      <td>0.008563</td>\n",
              "      <td>0.754837</td>\n",
              "      <td>6.860019</td>\n",
              "    </tr>\n",
              "    <tr>\n",
              "      <th>5</th>\n",
              "      <td>Haymarket Square</td>\n",
              "      <td>39.067898</td>\n",
              "      <td>0.676711</td>\n",
              "      <td>1008.445251</td>\n",
              "      <td>0.008660</td>\n",
              "      <td>0.764838</td>\n",
              "      <td>6.843193</td>\n",
              "    </tr>\n",
              "    <tr>\n",
              "      <th>6</th>\n",
              "      <td>North End</td>\n",
              "      <td>39.090843</td>\n",
              "      <td>0.676730</td>\n",
              "      <td>1008.441895</td>\n",
              "      <td>0.008644</td>\n",
              "      <td>0.764054</td>\n",
              "      <td>6.853117</td>\n",
              "    </tr>\n",
              "    <tr>\n",
              "      <th>7</th>\n",
              "      <td>North Station</td>\n",
              "      <td>39.035316</td>\n",
              "      <td>0.676998</td>\n",
              "      <td>1008.442810</td>\n",
              "      <td>0.008649</td>\n",
              "      <td>0.765545</td>\n",
              "      <td>6.835755</td>\n",
              "    </tr>\n",
              "    <tr>\n",
              "      <th>8</th>\n",
              "      <td>Northeastern University</td>\n",
              "      <td>38.975086</td>\n",
              "      <td>0.678317</td>\n",
              "      <td>1008.444153</td>\n",
              "      <td>0.007358</td>\n",
              "      <td>0.767648</td>\n",
              "      <td>6.749426</td>\n",
              "    </tr>\n",
              "    <tr>\n",
              "      <th>9</th>\n",
              "      <td>South Station</td>\n",
              "      <td>39.394093</td>\n",
              "      <td>0.677495</td>\n",
              "      <td>1008.438049</td>\n",
              "      <td>0.008310</td>\n",
              "      <td>0.755468</td>\n",
              "      <td>6.848948</td>\n",
              "    </tr>\n",
              "    <tr>\n",
              "      <th>10</th>\n",
              "      <td>Theatre District</td>\n",
              "      <td>38.986710</td>\n",
              "      <td>0.677763</td>\n",
              "      <td>1008.444763</td>\n",
              "      <td>0.008405</td>\n",
              "      <td>0.767992</td>\n",
              "      <td>6.834302</td>\n",
              "    </tr>\n",
              "    <tr>\n",
              "      <th>11</th>\n",
              "      <td>West End</td>\n",
              "      <td>38.983402</td>\n",
              "      <td>0.677247</td>\n",
              "      <td>1008.441101</td>\n",
              "      <td>0.008657</td>\n",
              "      <td>0.767266</td>\n",
              "      <td>6.816233</td>\n",
              "    </tr>\n",
              "  </tbody>\n",
              "</table>\n",
              "</div>"
            ],
            "text/plain": [
              "                destination  ...  destination_wind\n",
              "0                  Back Bay  ...          6.778528\n",
              "1               Beacon Hill  ...          6.810325\n",
              "2         Boston University  ...          6.692180\n",
              "3                    Fenway  ...          6.711721\n",
              "4        Financial District  ...          6.860019\n",
              "5          Haymarket Square  ...          6.843193\n",
              "6                 North End  ...          6.853117\n",
              "7             North Station  ...          6.835755\n",
              "8   Northeastern University  ...          6.749426\n",
              "9             South Station  ...          6.848948\n",
              "10         Theatre District  ...          6.834302\n",
              "11                 West End  ...          6.816233\n",
              "\n",
              "[12 rows x 7 columns]"
            ]
          },
          "metadata": {},
          "execution_count": 79
        }
      ]
    },
    {
      "cell_type": "code",
      "metadata": {
        "colab": {
          "base_uri": "https://localhost:8080/",
          "height": 725
        },
        "id": "drnE0GQ-972e",
        "outputId": "bb24e46a-126b-424e-b657-27017a808240"
      },
      "source": [
        "data = cab_data\\\n",
        "    .merge(pickup_weather_data, on='source')\\\n",
        "    .merge(destination_weather_data, on='destination')\n",
        "\n",
        "data.head(8)"
      ],
      "execution_count": 80,
      "outputs": [
        {
          "output_type": "execute_result",
          "data": {
            "text/html": [
              "<div>\n",
              "<style scoped>\n",
              "    .dataframe tbody tr th:only-of-type {\n",
              "        vertical-align: middle;\n",
              "    }\n",
              "\n",
              "    .dataframe tbody tr th {\n",
              "        vertical-align: top;\n",
              "    }\n",
              "\n",
              "    .dataframe thead th {\n",
              "        text-align: right;\n",
              "    }\n",
              "</style>\n",
              "<table border=\"1\" class=\"dataframe\">\n",
              "  <thead>\n",
              "    <tr style=\"text-align: right;\">\n",
              "      <th></th>\n",
              "      <th>distance</th>\n",
              "      <th>cab_type</th>\n",
              "      <th>time_stamp</th>\n",
              "      <th>destination</th>\n",
              "      <th>source</th>\n",
              "      <th>price</th>\n",
              "      <th>surge_multiplier</th>\n",
              "      <th>id</th>\n",
              "      <th>product_id</th>\n",
              "      <th>name</th>\n",
              "      <th>source_temp</th>\n",
              "      <th>source_clouds</th>\n",
              "      <th>source_pressure</th>\n",
              "      <th>source_rain</th>\n",
              "      <th>source_humidity</th>\n",
              "      <th>source_wind</th>\n",
              "      <th>destination_temp</th>\n",
              "      <th>destination_clouds</th>\n",
              "      <th>destination_pressure</th>\n",
              "      <th>destination_rain</th>\n",
              "      <th>destination_humidity</th>\n",
              "      <th>destination_wind</th>\n",
              "    </tr>\n",
              "  </thead>\n",
              "  <tbody>\n",
              "    <tr>\n",
              "      <th>0</th>\n",
              "      <td>0.44</td>\n",
              "      <td>Lyft</td>\n",
              "      <td>1544952607890</td>\n",
              "      <td>North Station</td>\n",
              "      <td>Haymarket Square</td>\n",
              "      <td>5.0</td>\n",
              "      <td>1.0</td>\n",
              "      <td>424553bb-7174-41ea-aeb4-fe06d4f4b9d7</td>\n",
              "      <td>lyft_line</td>\n",
              "      <td>Shared</td>\n",
              "      <td>39.067898</td>\n",
              "      <td>0.676711</td>\n",
              "      <td>1008.445251</td>\n",
              "      <td>0.00866</td>\n",
              "      <td>0.764838</td>\n",
              "      <td>6.843193</td>\n",
              "      <td>39.035316</td>\n",
              "      <td>0.676998</td>\n",
              "      <td>1008.44281</td>\n",
              "      <td>0.008649</td>\n",
              "      <td>0.765545</td>\n",
              "      <td>6.835755</td>\n",
              "    </tr>\n",
              "    <tr>\n",
              "      <th>1</th>\n",
              "      <td>0.44</td>\n",
              "      <td>Lyft</td>\n",
              "      <td>1543284023677</td>\n",
              "      <td>North Station</td>\n",
              "      <td>Haymarket Square</td>\n",
              "      <td>11.0</td>\n",
              "      <td>1.0</td>\n",
              "      <td>4bd23055-6827-41c6-b23b-3c491f24e74d</td>\n",
              "      <td>lyft_premier</td>\n",
              "      <td>Lux</td>\n",
              "      <td>39.067898</td>\n",
              "      <td>0.676711</td>\n",
              "      <td>1008.445251</td>\n",
              "      <td>0.00866</td>\n",
              "      <td>0.764838</td>\n",
              "      <td>6.843193</td>\n",
              "      <td>39.035316</td>\n",
              "      <td>0.676998</td>\n",
              "      <td>1008.44281</td>\n",
              "      <td>0.008649</td>\n",
              "      <td>0.765545</td>\n",
              "      <td>6.835755</td>\n",
              "    </tr>\n",
              "    <tr>\n",
              "      <th>2</th>\n",
              "      <td>0.44</td>\n",
              "      <td>Lyft</td>\n",
              "      <td>1543366822198</td>\n",
              "      <td>North Station</td>\n",
              "      <td>Haymarket Square</td>\n",
              "      <td>7.0</td>\n",
              "      <td>1.0</td>\n",
              "      <td>981a3613-77af-4620-a42a-0c0866077d1e</td>\n",
              "      <td>lyft</td>\n",
              "      <td>Lyft</td>\n",
              "      <td>39.067898</td>\n",
              "      <td>0.676711</td>\n",
              "      <td>1008.445251</td>\n",
              "      <td>0.00866</td>\n",
              "      <td>0.764838</td>\n",
              "      <td>6.843193</td>\n",
              "      <td>39.035316</td>\n",
              "      <td>0.676998</td>\n",
              "      <td>1008.44281</td>\n",
              "      <td>0.008649</td>\n",
              "      <td>0.765545</td>\n",
              "      <td>6.835755</td>\n",
              "    </tr>\n",
              "    <tr>\n",
              "      <th>3</th>\n",
              "      <td>0.44</td>\n",
              "      <td>Lyft</td>\n",
              "      <td>1543553582749</td>\n",
              "      <td>North Station</td>\n",
              "      <td>Haymarket Square</td>\n",
              "      <td>26.0</td>\n",
              "      <td>1.0</td>\n",
              "      <td>c2d88af2-d278-4bfd-a8d0-29ca77cc5512</td>\n",
              "      <td>lyft_luxsuv</td>\n",
              "      <td>Lux Black XL</td>\n",
              "      <td>39.067898</td>\n",
              "      <td>0.676711</td>\n",
              "      <td>1008.445251</td>\n",
              "      <td>0.00866</td>\n",
              "      <td>0.764838</td>\n",
              "      <td>6.843193</td>\n",
              "      <td>39.035316</td>\n",
              "      <td>0.676998</td>\n",
              "      <td>1008.44281</td>\n",
              "      <td>0.008649</td>\n",
              "      <td>0.765545</td>\n",
              "      <td>6.835755</td>\n",
              "    </tr>\n",
              "    <tr>\n",
              "      <th>4</th>\n",
              "      <td>0.44</td>\n",
              "      <td>Lyft</td>\n",
              "      <td>1543463360223</td>\n",
              "      <td>North Station</td>\n",
              "      <td>Haymarket Square</td>\n",
              "      <td>9.0</td>\n",
              "      <td>1.0</td>\n",
              "      <td>e0126e1f-8ca9-4f2e-82b3-50505a09db9a</td>\n",
              "      <td>lyft_plus</td>\n",
              "      <td>Lyft XL</td>\n",
              "      <td>39.067898</td>\n",
              "      <td>0.676711</td>\n",
              "      <td>1008.445251</td>\n",
              "      <td>0.00866</td>\n",
              "      <td>0.764838</td>\n",
              "      <td>6.843193</td>\n",
              "      <td>39.035316</td>\n",
              "      <td>0.676998</td>\n",
              "      <td>1008.44281</td>\n",
              "      <td>0.008649</td>\n",
              "      <td>0.765545</td>\n",
              "      <td>6.835755</td>\n",
              "    </tr>\n",
              "    <tr>\n",
              "      <th>5</th>\n",
              "      <td>0.44</td>\n",
              "      <td>Lyft</td>\n",
              "      <td>1545071112138</td>\n",
              "      <td>North Station</td>\n",
              "      <td>Haymarket Square</td>\n",
              "      <td>16.5</td>\n",
              "      <td>1.0</td>\n",
              "      <td>f6f6d7e4-3e18-4922-a5f5-181cdd3fa6f2</td>\n",
              "      <td>lyft_lux</td>\n",
              "      <td>Lux Black</td>\n",
              "      <td>39.067898</td>\n",
              "      <td>0.676711</td>\n",
              "      <td>1008.445251</td>\n",
              "      <td>0.00866</td>\n",
              "      <td>0.764838</td>\n",
              "      <td>6.843193</td>\n",
              "      <td>39.035316</td>\n",
              "      <td>0.676998</td>\n",
              "      <td>1008.44281</td>\n",
              "      <td>0.008649</td>\n",
              "      <td>0.765545</td>\n",
              "      <td>6.835755</td>\n",
              "    </tr>\n",
              "    <tr>\n",
              "      <th>6</th>\n",
              "      <td>0.49</td>\n",
              "      <td>Uber</td>\n",
              "      <td>1543768980914</td>\n",
              "      <td>North Station</td>\n",
              "      <td>Haymarket Square</td>\n",
              "      <td>15.0</td>\n",
              "      <td>1.0</td>\n",
              "      <td>a03f131a-3136-4bb3-9fd4-5926ad8f5323</td>\n",
              "      <td>6c84fd89-3f11-4782-9b50-97c468b19529</td>\n",
              "      <td>Black</td>\n",
              "      <td>39.067898</td>\n",
              "      <td>0.676711</td>\n",
              "      <td>1008.445251</td>\n",
              "      <td>0.00866</td>\n",
              "      <td>0.764838</td>\n",
              "      <td>6.843193</td>\n",
              "      <td>39.035316</td>\n",
              "      <td>0.676998</td>\n",
              "      <td>1008.44281</td>\n",
              "      <td>0.008649</td>\n",
              "      <td>0.765545</td>\n",
              "      <td>6.835755</td>\n",
              "    </tr>\n",
              "    <tr>\n",
              "      <th>7</th>\n",
              "      <td>0.49</td>\n",
              "      <td>Uber</td>\n",
              "      <td>1543783380005</td>\n",
              "      <td>North Station</td>\n",
              "      <td>Haymarket Square</td>\n",
              "      <td>7.0</td>\n",
              "      <td>1.0</td>\n",
              "      <td>a140fd91-dae2-4b64-b547-04810fe5a433</td>\n",
              "      <td>9a0e7b09-b92b-4c41-9779-2ad22b4d779d</td>\n",
              "      <td>WAV</td>\n",
              "      <td>39.067898</td>\n",
              "      <td>0.676711</td>\n",
              "      <td>1008.445251</td>\n",
              "      <td>0.00866</td>\n",
              "      <td>0.764838</td>\n",
              "      <td>6.843193</td>\n",
              "      <td>39.035316</td>\n",
              "      <td>0.676998</td>\n",
              "      <td>1008.44281</td>\n",
              "      <td>0.008649</td>\n",
              "      <td>0.765545</td>\n",
              "      <td>6.835755</td>\n",
              "    </tr>\n",
              "  </tbody>\n",
              "</table>\n",
              "</div>"
            ],
            "text/plain": [
              "   distance cab_type  ...  destination_humidity destination_wind\n",
              "0      0.44     Lyft  ...              0.765545         6.835755\n",
              "1      0.44     Lyft  ...              0.765545         6.835755\n",
              "2      0.44     Lyft  ...              0.765545         6.835755\n",
              "3      0.44     Lyft  ...              0.765545         6.835755\n",
              "4      0.44     Lyft  ...              0.765545         6.835755\n",
              "5      0.44     Lyft  ...              0.765545         6.835755\n",
              "6      0.49     Uber  ...              0.765545         6.835755\n",
              "7      0.49     Uber  ...              0.765545         6.835755\n",
              "\n",
              "[8 rows x 22 columns]"
            ]
          },
          "metadata": {},
          "execution_count": 80
        }
      ]
    },
    {
      "cell_type": "code",
      "metadata": {
        "colab": {
          "base_uri": "https://localhost:8080/",
          "height": 708
        },
        "id": "X_YgoP2IHybl",
        "outputId": "04d3b298-7d32-49f9-8162-1492e517fc02"
      },
      "source": [
        "plt.figure(figsize=(12, 10))\n",
        "sns.heatmap(data = data.corr())"
      ],
      "execution_count": 81,
      "outputs": [
        {
          "output_type": "execute_result",
          "data": {
            "text/plain": [
              "<matplotlib.axes._subplots.AxesSubplot at 0x7f951777cc10>"
            ]
          },
          "metadata": {},
          "execution_count": 81
        },
        {
          "output_type": "display_data",
          "data": {
            "image/png": "[encoded data removed]",
            "text/plain": [
              "<Figure size 864x720 with 2 Axes>"
            ]
          },
          "metadata": {
            "needs_background": "light"
          }
        }
      ]
    },
    {
      "cell_type": "code",
      "metadata": {
        "colab": {
          "base_uri": "https://localhost:8080/",
          "height": 448
        },
        "id": "YqlKkCuNIKxp",
        "outputId": "0f84f14e-0e4c-4285-db04-1c5719995eaa"
      },
      "source": [
        "plt.figure(figsize=(12, 5))\n",
        "data.corr()[\"price\"].sort_values(ascending=False).plot(kind=\"bar\")\n",
        "plt.title(\"Corelation (Price)\")"
      ],
      "execution_count": 82,
      "outputs": [
        {
          "output_type": "execute_result",
          "data": {
            "text/plain": [
              "Text(0.5, 1.0, 'Corelation (Price)')"
            ]
          },
          "metadata": {},
          "execution_count": 82
        },
        {
          "output_type": "display_data",
          "data": {
            "image/png": "[encoded data removed]",
            "text/plain": [
              "<Figure size 864x360 with 1 Axes>"
            ]
          },
          "metadata": {
            "needs_background": "light"
          }
        }
      ]
    },
    {
      "cell_type": "markdown",
      "metadata": {
        "id": "DSYl4xjoJcI6"
      },
      "source": [
        "Prediction"
      ]
    },
    {
      "cell_type": "code",
      "metadata": {
        "id": "twBo_DtR-V-g"
      },
      "source": [
        "def onehot_encode(df, column, prefix):\n",
        "    df = df.copy()\n",
        "    dummies = pd.get_dummies(df[column], prefix=prefix)\n",
        "    df = pd.concat([df, dummies], axis=1)\n",
        "    df = df.drop(column, axis=1)\n",
        "    return df"
      ],
      "execution_count": 83,
      "outputs": []
    },
    {
      "cell_type": "code",
      "metadata": {
        "id": "g6-zdWrm-o58"
      },
      "source": [
        "def preprocess_data(df):\n",
        "  df = df.copy()\n",
        "  df = df.drop(\"id\", axis=1)\n",
        "  df['cab_type'] = df['cab_type'].replace({'Lyft': 1, 'Uber': 2})\n",
        "  for column, prefix in [('destination', \"dest\"), ('source', \"src\"), ('product_id', \"pid\"), ('name', \"nm\")]:\n",
        "    df = onehot_encode(df, column=column, prefix=prefix)\n",
        "  \n",
        "\n",
        "  X = df.drop(\"price\", axis = 1)\n",
        "  y = df[\"price\"]\n",
        "  X_train, X_test, y_train, y_test = train_test_split(X, y, train_size=0.85, shuffle=True, random_state=1)\n",
        "\n",
        "  scaler = StandardScaler()\n",
        "\n",
        "  scaler.fit(X_train)\n",
        "\n",
        "  X_train = pd.DataFrame(scaler.transform(X_train), columns = X.columns)\n",
        "  X_test = pd.DataFrame(scaler.transform(X_test), columns = X.columns)\n",
        "\n",
        "  return X_train, X_test, y_train, y_test, scaler"
      ],
      "execution_count": 84,
      "outputs": []
    },
    {
      "cell_type": "code",
      "metadata": {
        "id": "5pR9Pix--7pc"
      },
      "source": [
        "X_train, X_test, y_train, y_test, scaler = preprocess_data(data)"
      ],
      "execution_count": 85,
      "outputs": []
    },
    {
      "cell_type": "code",
      "metadata": {
        "colab": {
          "base_uri": "https://localhost:8080/"
        },
        "id": "4QqEpFRh_jsk",
        "outputId": "2ed70f75-a666-4347-b281-4636a2935331"
      },
      "source": [
        "model = LinearRegression()\n",
        "model.fit(X_train, y_train)\n",
        "\n",
        "print(\"Test R^2 Score: {:.5f}\".format(model.score(X_test, y_test)))"
      ],
      "execution_count": 90,
      "outputs": [
        {
          "output_type": "stream",
          "name": "stdout",
          "text": [
            "Test R^2 Score: 0.92804\n"
          ]
        }
      ]
    },
    {
      "cell_type": "code",
      "metadata": {
        "id": "7iw5ul4J_-Fr"
      },
      "source": [
        ""
      ],
      "execution_count": 90,
      "outputs": []
    }
  ]
}